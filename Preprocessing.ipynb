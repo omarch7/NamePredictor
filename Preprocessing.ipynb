{
 "cells": [
  {
   "cell_type": "markdown",
   "metadata": {},
   "source": [
    "# Data Preprocessing\n",
    "---\n",
    "\n",
    "The main objective is to extract strings containing names and everything else, for this DBpedia is used as the main source of the data\n",
    "\n",
    "The **Transitive-Type** file helps to identify if a resource is a Person or not.\n",
    "\n",
    "[instance_types_transitive_en.ttl.bz2](http://downloads.dbpedia.org/2016-10/core-i18n/en/instance_types_transitive_en.ttl.bz2) **125MB** (Compressed)\n",
    "\n",
    "**Mapping Based Literals** contains all the strings related to the resources included inside the Transitive-Type file, not only names but all kinds of strings.\n",
    "\n",
    "[mappingbased_literals_en.ttl.bz2](http://downloads.dbpedia.org/2016-10/core-i18n/en/mappingbased_literals_en.ttl.bz2) **131MB** (Compressed)"
   ]
  },
  {
   "cell_type": "code",
   "execution_count": 1,
   "metadata": {
    "collapsed": true
   },
   "outputs": [],
   "source": [
    "import pandas as pd\n",
    "import bz2 # Read the files without extracting them\n",
    "import re\n",
    "import numpy as np\n",
    "import itertools # Produce string combinations easily\n",
    "\n",
    "# Transitive-Type File\n",
    "transitive_type_file = 'data/instance_types_transitive_en.ttl.bz2'\n",
    "# Mappings-Based File\n",
    "mappings_based_file = 'data/mappingbased_literals_en.ttl.bz2'"
   ]
  },
  {
   "cell_type": "markdown",
   "metadata": {},
   "source": [
    "#### Transitive-Type Triples\n",
    "```\n",
    "<http://dbpedia.org/resource/Abraham_Lincoln> <http://www.w3.org/1999/02/22-rdf-syntax-ns#type> <http://schema.org/Person> .\n",
    "<http://dbpedia.org/resource/Alabama> <http://www.w3.org/1999/02/22-rdf-syntax-ns#type> <http://dbpedia.org/ontology/Place> .\n",
    "```\n",
    "\n",
    "This file has the format of **subject - predicate - object** where the subject is the resource like *Abraham Lincoln* and the type of entity is like *Person*\n",
    "\n",
    "Because every subject is linked to several objects, we can use a counter approach, where if the subject has at least one Person related ontology, we mark this resource as a person."
   ]
  },
  {
   "cell_type": "code",
   "execution_count": 2,
   "metadata": {
    "collapsed": true,
    "scrolled": false
   },
   "outputs": [],
   "source": [
    "# Build Resource Dictionaries\n",
    "dictionary = {}\n",
    "\n",
    "is_person_re = re.compile(r'<http://.+/Person>$') # Regex to detect if the resource has the ontology Person\n",
    "get_resource_re = re.compile(r'<http://dbpedia.org/resource/(.+)>') # Regex to extract the resource name\n",
    "\n",
    "with bz2.open(transitive_type_file, 'r') as f:\n",
    "    while True:\n",
    "        # Becase a compressed file is being readed, each lines needs to be decoded into UTF-8\n",
    "        line = f.readline().decode('utf-8')\n",
    "        if not line:\n",
    "            break\n",
    "        if not line.startswith(\"#\"): # Avoiding commented lines\n",
    "            triple = line.split(\" \") # Split the string into a triple\n",
    "            resource = get_resource_re.search(triple[0]).group(1) # Get the resource name\n",
    "            if resource not in dictionary: # Check if that resource was already passed through\n",
    "                dictionary[resource] = 0\n",
    "            # If the resource has the ontology Person, increase resource counter\n",
    "            dictionary[resource] += 1 if is_person_re.match(triple[2]) else 0"
   ]
  },
  {
   "cell_type": "markdown",
   "metadata": {},
   "source": [
    "#### Mapping Based Literals\n",
    "```\n",
    "http://dbpedia.org/resource/Academy_Award_for_Best_Production_Design> <http://xmlns.com/foaf/0.1/name> \"Academy Award for Best Production Design\"@en .\n",
    "<http://dbpedia.org/resource/Academy_Award_for_Best_Production_Design> <http://dbpedia.org/ontology/year> \"1929\"^^<http://www.w3.org/2001/XMLSchema#gYear> .\n",
    "<http://dbpedia.org/resource/Ayn_Rand> <http://xmlns.com/foaf/0.1/name> \"Ayn Rand\"@en .\n",
    "<http://dbpedia.org/resource/Ayn_Rand> <http://dbpedia.org/ontology/pseudonym> \"Ayn Rand\"@en .\n",
    "<http://dbpedia.org/resource/Ayn_Rand> <http://dbpedia.org/ontology/birthName> \"Alisa Zinov'yevna Rosenbaum\"@en .\n",
    "<http://dbpedia.org/resource/Ayn_Rand> <http://dbpedia.org/ontology/birthDate> \"1905-02-02\"^^<http://www.w3.org/2001/XMLSchema#date> .\n",
    "```\n",
    "\n",
    "The format for this file is **subject - attribute - string**\n",
    "\n",
    "If the subject is in the dictionary we created and the counter is bigger than 0, then we can label those strings as names and because we also need strings that are not names, we save all the possible strings with their respective label."
   ]
  },
  {
   "cell_type": "code",
   "execution_count": 3,
   "metadata": {
    "collapsed": true
   },
   "outputs": [],
   "source": [
    "attributes = ['name', 'birthName', 'alias', 'pseudonym'] # Attributes that contain Person name\n",
    "\n",
    "strings = []\n",
    "labels = []\n",
    "\n",
    "# Regex to extract the attribute (e.g. birthName, birthDate, etc.)\n",
    "attribute_regex = re.compile(r'^<http://.+/(.+)>$')\n",
    "# Regex to extract the actual string\n",
    "string_regex = re.compile(r' \"(.+)\"')\n",
    "# Some few strings contain extra information inside parenthesis, so we avoid them\n",
    "parenthesis_regex = re.compile(r'\\(.+\\)')\n",
    "\n",
    "with bz2.open(mappings_based_file, 'r') as f:\n",
    "    while True:\n",
    "        line = f.readline().decode('utf-8')\n",
    "        if not line:\n",
    "            break\n",
    "        if not line.startswith(\"#\"):\n",
    "            triple = line.split(\" \")\n",
    "            resource = get_resource_re.search(triple[0]).group(1)\n",
    "            attribute = attribute_regex.search(triple[1]).group(1)\n",
    "            if resource in dictionary:\n",
    "                string = string_regex.search(line).group(1)\n",
    "                # If doesn't have parenthesis we append them to the arrays\n",
    "                if not parenthesis_regex.search(string):\n",
    "                    strings.append(string)\n",
    "                    # If the counter for that resource in the dictionary is more than 0 we set True otherwise False.\n",
    "                    labels.append(True if dictionary[resource] and attribute in attributes else False)    "
   ]
  },
  {
   "cell_type": "markdown",
   "metadata": {},
   "source": [
    "We load the data into a *Pandas Dataframe* for easier manipulation, and we remove duplicates."
   ]
  },
  {
   "cell_type": "code",
   "execution_count": 4,
   "metadata": {},
   "outputs": [
    {
     "data": {
      "text/html": [
       "<div>\n",
       "<style>\n",
       "    .dataframe thead tr:only-child th {\n",
       "        text-align: right;\n",
       "    }\n",
       "\n",
       "    .dataframe thead th {\n",
       "        text-align: left;\n",
       "    }\n",
       "\n",
       "    .dataframe tbody tr th {\n",
       "        vertical-align: top;\n",
       "    }\n",
       "</style>\n",
       "<table border=\"1\" class=\"dataframe\">\n",
       "  <thead>\n",
       "    <tr style=\"text-align: right;\">\n",
       "      <th></th>\n",
       "      <th>is_person_name</th>\n",
       "      <th>string</th>\n",
       "    </tr>\n",
       "  </thead>\n",
       "  <tbody>\n",
       "    <tr>\n",
       "      <th>9247870</th>\n",
       "      <td>False</td>\n",
       "      <td>Bhavihal</td>\n",
       "    </tr>\n",
       "    <tr>\n",
       "      <th>2612329</th>\n",
       "      <td>False</td>\n",
       "      <td>1.5327E8</td>\n",
       "    </tr>\n",
       "    <tr>\n",
       "      <th>1018988</th>\n",
       "      <td>True</td>\n",
       "      <td>Henri van den Broek</td>\n",
       "    </tr>\n",
       "    <tr>\n",
       "      <th>2428934</th>\n",
       "      <td>True</td>\n",
       "      <td>Alvin Hansen</td>\n",
       "    </tr>\n",
       "    <tr>\n",
       "      <th>45636</th>\n",
       "      <td>False</td>\n",
       "      <td>1915-04-21</td>\n",
       "    </tr>\n",
       "    <tr>\n",
       "      <th>3365742</th>\n",
       "      <td>False</td>\n",
       "      <td>Tropical North Learning Academy- Smithfield St...</td>\n",
       "    </tr>\n",
       "    <tr>\n",
       "      <th>11446295</th>\n",
       "      <td>True</td>\n",
       "      <td>Simon Hanna</td>\n",
       "    </tr>\n",
       "    <tr>\n",
       "      <th>7001578</th>\n",
       "      <td>False</td>\n",
       "      <td>179805747</td>\n",
       "    </tr>\n",
       "    <tr>\n",
       "      <th>8595912</th>\n",
       "      <td>True</td>\n",
       "      <td>Taylor Marie Roberts</td>\n",
       "    </tr>\n",
       "    <tr>\n",
       "      <th>2615365</th>\n",
       "      <td>False</td>\n",
       "      <td>By Time Alone</td>\n",
       "    </tr>\n",
       "  </tbody>\n",
       "</table>\n",
       "</div>"
      ],
      "text/plain": [
       "          is_person_name                                             string\n",
       "9247870            False                                           Bhavihal\n",
       "2612329            False                                           1.5327E8\n",
       "1018988             True                                Henri van den Broek\n",
       "2428934             True                                       Alvin Hansen\n",
       "45636              False                                         1915-04-21\n",
       "3365742            False  Tropical North Learning Academy- Smithfield St...\n",
       "11446295            True                                        Simon Hanna\n",
       "7001578            False                                          179805747\n",
       "8595912             True                               Taylor Marie Roberts\n",
       "2615365            False                                      By Time Alone"
      ]
     },
     "execution_count": 4,
     "metadata": {},
     "output_type": "execute_result"
    }
   ],
   "source": [
    "df = pd.DataFrame({'string': strings, 'is_person_name': labels})\n",
    "dedup_df = df.drop_duplicates(subset='string')\n",
    "dedup_df.sample(n=10)"
   ]
  },
  {
   "cell_type": "code",
   "execution_count": 5,
   "metadata": {
    "collapsed": true
   },
   "outputs": [],
   "source": [
    "import locale\n",
    "locale.setlocale(locale.LC_ALL, 'en_GB')\n",
    "\n",
    "# Function just to print the fancy commas\n",
    "def formatNumber(n):\n",
    "    return locale.format(\"%d\", n, grouping=True)"
   ]
  },
  {
   "cell_type": "markdown",
   "metadata": {},
   "source": [
    "The dataset built from DBpedia generated around *4 million* samples, but only *1 million* are names. We can balance the classes, undersampling the ones that are not names, but decided to generate *2 million* more of names to have *6 million* of strings in total."
   ]
  },
  {
   "cell_type": "code",
   "execution_count": 6,
   "metadata": {},
   "outputs": [
    {
     "name": "stdout",
     "output_type": "stream",
     "text": [
      "Total: 4,177,368\n",
      "Names: 1,071,272\n"
     ]
    }
   ],
   "source": [
    "print(\"Total: {}\".format(formatNumber(dedup_df.shape[0])))\n",
    "print(\"Names: {}\".format(formatNumber(dedup_df[dedup_df['is_person_name']==True].shape[0])))"
   ]
  },
  {
   "cell_type": "code",
   "execution_count": 7,
   "metadata": {
    "collapsed": true
   },
   "outputs": [],
   "source": [
    "%matplotlib inline\n",
    "import seaborn as sns # Seaborn to plot distributions\n",
    "import matplotlib.pyplot as plt # Needed for Seaborn"
   ]
  },
  {
   "cell_type": "markdown",
   "metadata": {},
   "source": [
    "We plot the distribution with the lengths of the strings, we do have some strings with almost **1,400** characters but most of them are less than **50** characters."
   ]
  },
  {
   "cell_type": "code",
   "execution_count": 8,
   "metadata": {
    "scrolled": false
   },
   "outputs": [
    {
     "data": {
      "text/plain": [
       "<matplotlib.axes._subplots.AxesSubplot at 0x175999a58>"
      ]
     },
     "execution_count": 8,
     "metadata": {},
     "output_type": "execute_result"
    },
    {
     "data": {
      "image/png": "[encoded data removed]",
      "text/plain": [
       "<matplotlib.figure.Figure at 0x175971d68>"
      ]
     },
     "metadata": {},
     "output_type": "display_data"
    }
   ],
   "source": [
    "sns.distplot(dedup_df['string'].apply(lambda s: len(s)))"
   ]
  },
  {
   "cell_type": "markdown",
   "metadata": {},
   "source": [
    "We remove all the samples that are bigger than **50**, the dataset only loses a few thousand samples."
   ]
  },
  {
   "cell_type": "code",
   "execution_count": 9,
   "metadata": {},
   "outputs": [
    {
     "name": "stdout",
     "output_type": "stream",
     "text": [
      "Total: 4,099,926\n",
      "Names: 1,069,256\n"
     ]
    }
   ],
   "source": [
    "reduced_df = dedup_df[dedup_df['string'].apply(lambda s: len(s))<=50]\n",
    "\n",
    "print(\"Total: {}\".format(formatNumber(reduced_df.shape[0])))\n",
    "print(\"Names: {}\".format(formatNumber(reduced_df[reduced_df['is_person_name']==True].shape[0])))"
   ]
  },
  {
   "cell_type": "markdown",
   "metadata": {},
   "source": [
    "If we plot the length distribution we can see it covers most of the samples."
   ]
  },
  {
   "cell_type": "code",
   "execution_count": 10,
   "metadata": {},
   "outputs": [
    {
     "data": {
      "text/plain": [
       "<matplotlib.axes._subplots.AxesSubplot at 0x15ac14b38>"
      ]
     },
     "execution_count": 10,
     "metadata": {},
     "output_type": "execute_result"
    },
    {
     "data": {
      "image/png": "[encoded data removed]",
      "text/plain": [
       "<matplotlib.figure.Figure at 0x1759999e8>"
      ]
     },
     "metadata": {},
     "output_type": "display_data"
    }
   ],
   "source": [
    "sns.distplot(reduced_df['string'].apply(lambda s: len(s)), axlabel='String Lengths')"
   ]
  },
  {
   "cell_type": "markdown",
   "metadata": {},
   "source": [
    "Function to detect if the string has latin characters the **p** variable is for the percentage of accepted non-latin characters.\n",
    "\n",
    "This is useful when some strings contain special letters (ç, ñ, ß, etc.)"
   ]
  },
  {
   "cell_type": "code",
   "execution_count": 11,
   "metadata": {
    "collapsed": true
   },
   "outputs": [],
   "source": [
    "def hasLatinChar(s, p=0.0):\n",
    "    count = 0\n",
    "    for c in s:\n",
    "        if ord(c) > 255:\n",
    "            count += 1\n",
    "    return True if len(s) * p > count else False"
   ]
  },
  {
   "cell_type": "markdown",
   "metadata": {},
   "source": [
    "There are strings that have non-latin characters (Arabic, Russian, Chinese, etc.) So we remove them as well."
   ]
  },
  {
   "cell_type": "code",
   "execution_count": 12,
   "metadata": {
    "scrolled": false
   },
   "outputs": [
    {
     "data": {
      "text/html": [
       "<div>\n",
       "<style>\n",
       "    .dataframe thead tr:only-child th {\n",
       "        text-align: right;\n",
       "    }\n",
       "\n",
       "    .dataframe thead th {\n",
       "        text-align: left;\n",
       "    }\n",
       "\n",
       "    .dataframe tbody tr th {\n",
       "        vertical-align: top;\n",
       "    }\n",
       "</style>\n",
       "<table border=\"1\" class=\"dataframe\">\n",
       "  <thead>\n",
       "    <tr style=\"text-align: right;\">\n",
       "      <th></th>\n",
       "      <th>is_person_name</th>\n",
       "      <th>string</th>\n",
       "    </tr>\n",
       "  </thead>\n",
       "  <tbody>\n",
       "    <tr>\n",
       "      <th>9962357</th>\n",
       "      <td>False</td>\n",
       "      <td>勤以为学 信以立身</td>\n",
       "    </tr>\n",
       "    <tr>\n",
       "      <th>11152504</th>\n",
       "      <td>False</td>\n",
       "      <td>واشقان</td>\n",
       "    </tr>\n",
       "    <tr>\n",
       "      <th>2278634</th>\n",
       "      <td>False</td>\n",
       "      <td>Καπανδρίτι</td>\n",
       "    </tr>\n",
       "    <tr>\n",
       "      <th>12095930</th>\n",
       "      <td>False</td>\n",
       "      <td>موتورحاجي پيرمحمد</td>\n",
       "    </tr>\n",
       "    <tr>\n",
       "      <th>9625195</th>\n",
       "      <td>False</td>\n",
       "      <td>Ru-вздрогнуть.ogg</td>\n",
       "    </tr>\n",
       "    <tr>\n",
       "      <th>11490044</th>\n",
       "      <td>False</td>\n",
       "      <td>السبع بيار</td>\n",
       "    </tr>\n",
       "    <tr>\n",
       "      <th>10565151</th>\n",
       "      <td>False</td>\n",
       "      <td>نوجان</td>\n",
       "    </tr>\n",
       "    <tr>\n",
       "      <th>12859927</th>\n",
       "      <td>False</td>\n",
       "      <td>कावलि</td>\n",
       "    </tr>\n",
       "    <tr>\n",
       "      <th>10889229</th>\n",
       "      <td>False</td>\n",
       "      <td>بن باباجان</td>\n",
       "    </tr>\n",
       "    <tr>\n",
       "      <th>11061534</th>\n",
       "      <td>False</td>\n",
       "      <td>دهستان ليراوئ جنوبي</td>\n",
       "    </tr>\n",
       "  </tbody>\n",
       "</table>\n",
       "</div>"
      ],
      "text/plain": [
       "          is_person_name               string\n",
       "9962357            False            勤以为学 信以立身\n",
       "11152504           False               واشقان\n",
       "2278634            False           Καπανδρίτι\n",
       "12095930           False    موتورحاجي پيرمحمد\n",
       "9625195            False    Ru-вздрогнуть.ogg\n",
       "11490044           False           السبع بيار\n",
       "10565151           False                نوجان\n",
       "12859927           False                कावलि\n",
       "10889229           False           بن باباجان\n",
       "11061534           False  دهستان ليراوئ جنوبي"
      ]
     },
     "execution_count": 12,
     "metadata": {},
     "output_type": "execute_result"
    }
   ],
   "source": [
    "reduced_df[reduced_df['string'].apply(lambda s: hasLatinChar(s, 0.3))==False].sample(n=10)"
   ]
  },
  {
   "cell_type": "markdown",
   "metadata": {},
   "source": [
    "After removing them we end with *3.9 Million* samples and with *1 million* of names, we are still *2 million* behind to balance the classes."
   ]
  },
  {
   "cell_type": "code",
   "execution_count": 13,
   "metadata": {},
   "outputs": [
    {
     "name": "stdout",
     "output_type": "stream",
     "text": [
      "Total: 3,974,333\n",
      "Names: 1,056,677\n"
     ]
    }
   ],
   "source": [
    "clean_df = reduced_df[reduced_df['string'].apply(lambda s: hasLatinChar(s, 0.3))==True]\n",
    "print(\"Total: {}\".format(formatNumber(clean_df.shape[0])))\n",
    "print(\"Names: {}\".format(formatNumber(clean_df[clean_df['is_person_name']==True].shape[0])))"
   ]
  },
  {
   "cell_type": "markdown",
   "metadata": {},
   "source": [
    "To generate more names, I downloaded CSV files for First Names and Last Names\n",
    "\n",
    "[First Names CSV](http://www.quietaffiliate.com/Files/CSV_Database_of_First_Names.csv)\n",
    "\n",
    "[Last Names CSV](http://www.quietaffiliate.com/Files/CSV_Database_of_Last_Names.csv)"
   ]
  },
  {
   "cell_type": "code",
   "execution_count": 14,
   "metadata": {},
   "outputs": [
    {
     "name": "stdout",
     "output_type": "stream",
     "text": [
      "First Names: 5,494\n"
     ]
    }
   ],
   "source": [
    "first_names = pd.read_csv('data/First_Names.csv', index_col=False)\n",
    "print(\"First Names: {}\".format(formatNumber(first_names.shape[0])))"
   ]
  },
  {
   "cell_type": "code",
   "execution_count": 15,
   "metadata": {},
   "outputs": [
    {
     "name": "stdout",
     "output_type": "stream",
     "text": [
      "Last Names: 88,799\n"
     ]
    }
   ],
   "source": [
    "last_names = pd.read_csv('data/Last_Names.csv', index_col=False)\n",
    "print(\"Last Names: {}\".format(formatNumber(last_names.shape[0]))) "
   ]
  },
  {
   "cell_type": "markdown",
   "metadata": {},
   "source": [
    "We sample *1,000* first names and *2,000* last names to do a product operation and generate 2 million random names."
   ]
  },
  {
   "cell_type": "code",
   "execution_count": 16,
   "metadata": {
    "collapsed": true
   },
   "outputs": [],
   "source": [
    "# Create 2 million names\n",
    "n_last_names = 2000\n",
    "n_first_names = 1000\n",
    "\n",
    "generated_names = np.array(list(map(lambda s: \"{} {}\".format(s[0], s[1]),\n",
    "                                    itertools.product(first_names['firstname'].sample(n=n_first_names).values,\n",
    "                                                      last_names['lastname'].sample(n=n_last_names).values))\n",
    "                               )\n",
    "                          )\n",
    "generanted = pd.DataFrame({'string':generated_names})\n",
    "generanted['is_person_name'] = pd.Series(True, index=generanted.index)"
   ]
  },
  {
   "cell_type": "code",
   "execution_count": 17,
   "metadata": {},
   "outputs": [
    {
     "data": {
      "text/html": [
       "<div>\n",
       "<style>\n",
       "    .dataframe thead tr:only-child th {\n",
       "        text-align: right;\n",
       "    }\n",
       "\n",
       "    .dataframe thead th {\n",
       "        text-align: left;\n",
       "    }\n",
       "\n",
       "    .dataframe tbody tr th {\n",
       "        vertical-align: top;\n",
       "    }\n",
       "</style>\n",
       "<table border=\"1\" class=\"dataframe\">\n",
       "  <thead>\n",
       "    <tr style=\"text-align: right;\">\n",
       "      <th></th>\n",
       "      <th>string</th>\n",
       "      <th>is_person_name</th>\n",
       "    </tr>\n",
       "  </thead>\n",
       "  <tbody>\n",
       "    <tr>\n",
       "      <th>1311635</th>\n",
       "      <td>Shavon Sikander</td>\n",
       "      <td>True</td>\n",
       "    </tr>\n",
       "    <tr>\n",
       "      <th>1437702</th>\n",
       "      <td>Donetta Lehrfeld</td>\n",
       "      <td>True</td>\n",
       "    </tr>\n",
       "    <tr>\n",
       "      <th>610179</th>\n",
       "      <td>Daine Delee</td>\n",
       "      <td>True</td>\n",
       "    </tr>\n",
       "    <tr>\n",
       "      <th>233763</th>\n",
       "      <td>Krystina Obergfell</td>\n",
       "      <td>True</td>\n",
       "    </tr>\n",
       "    <tr>\n",
       "      <th>1029114</th>\n",
       "      <td>Celina Holmen</td>\n",
       "      <td>True</td>\n",
       "    </tr>\n",
       "    <tr>\n",
       "      <th>217059</th>\n",
       "      <td>Normand Germon</td>\n",
       "      <td>True</td>\n",
       "    </tr>\n",
       "    <tr>\n",
       "      <th>1801856</th>\n",
       "      <td>Raleigh Politano</td>\n",
       "      <td>True</td>\n",
       "    </tr>\n",
       "    <tr>\n",
       "      <th>1335778</th>\n",
       "      <td>Gigi Lanoie</td>\n",
       "      <td>True</td>\n",
       "    </tr>\n",
       "    <tr>\n",
       "      <th>276677</th>\n",
       "      <td>Joy Sottosanti</td>\n",
       "      <td>True</td>\n",
       "    </tr>\n",
       "    <tr>\n",
       "      <th>760801</th>\n",
       "      <td>Adria Turocy</td>\n",
       "      <td>True</td>\n",
       "    </tr>\n",
       "  </tbody>\n",
       "</table>\n",
       "</div>"
      ],
      "text/plain": [
       "                     string  is_person_name\n",
       "1311635     Shavon Sikander            True\n",
       "1437702    Donetta Lehrfeld            True\n",
       "610179          Daine Delee            True\n",
       "233763   Krystina Obergfell            True\n",
       "1029114       Celina Holmen            True\n",
       "217059       Normand Germon            True\n",
       "1801856    Raleigh Politano            True\n",
       "1335778         Gigi Lanoie            True\n",
       "276677       Joy Sottosanti            True\n",
       "760801         Adria Turocy            True"
      ]
     },
     "execution_count": 17,
     "metadata": {},
     "output_type": "execute_result"
    }
   ],
   "source": [
    "generanted.sample(n=10)"
   ]
  },
  {
   "cell_type": "code",
   "execution_count": 18,
   "metadata": {
    "collapsed": true
   },
   "outputs": [],
   "source": [
    "first_names.columns = ['string']\n",
    "first_names['is_person_name'] = pd.Series(True, index=first_names.index)"
   ]
  },
  {
   "cell_type": "code",
   "execution_count": 19,
   "metadata": {},
   "outputs": [
    {
     "data": {
      "text/html": [
       "<div>\n",
       "<style>\n",
       "    .dataframe thead tr:only-child th {\n",
       "        text-align: right;\n",
       "    }\n",
       "\n",
       "    .dataframe thead th {\n",
       "        text-align: left;\n",
       "    }\n",
       "\n",
       "    .dataframe tbody tr th {\n",
       "        vertical-align: top;\n",
       "    }\n",
       "</style>\n",
       "<table border=\"1\" class=\"dataframe\">\n",
       "  <thead>\n",
       "    <tr style=\"text-align: right;\">\n",
       "      <th></th>\n",
       "      <th>string</th>\n",
       "      <th>is_person_name</th>\n",
       "    </tr>\n",
       "  </thead>\n",
       "  <tbody>\n",
       "    <tr>\n",
       "      <th>2843</th>\n",
       "      <td>Kizzy</td>\n",
       "      <td>True</td>\n",
       "    </tr>\n",
       "    <tr>\n",
       "      <th>4144</th>\n",
       "      <td>Peter</td>\n",
       "      <td>True</td>\n",
       "    </tr>\n",
       "    <tr>\n",
       "      <th>2825</th>\n",
       "      <td>Kimiko</td>\n",
       "      <td>True</td>\n",
       "    </tr>\n",
       "    <tr>\n",
       "      <th>1913</th>\n",
       "      <td>Gerda</td>\n",
       "      <td>True</td>\n",
       "    </tr>\n",
       "    <tr>\n",
       "      <th>602</th>\n",
       "      <td>Britt</td>\n",
       "      <td>True</td>\n",
       "    </tr>\n",
       "    <tr>\n",
       "      <th>4222</th>\n",
       "      <td>Randal</td>\n",
       "      <td>True</td>\n",
       "    </tr>\n",
       "    <tr>\n",
       "      <th>5485</th>\n",
       "      <td>Zoila</td>\n",
       "      <td>True</td>\n",
       "    </tr>\n",
       "    <tr>\n",
       "      <th>3047</th>\n",
       "      <td>Leanora</td>\n",
       "      <td>True</td>\n",
       "    </tr>\n",
       "    <tr>\n",
       "      <th>4333</th>\n",
       "      <td>Riley</td>\n",
       "      <td>True</td>\n",
       "    </tr>\n",
       "    <tr>\n",
       "      <th>5183</th>\n",
       "      <td>Tyler</td>\n",
       "      <td>True</td>\n",
       "    </tr>\n",
       "  </tbody>\n",
       "</table>\n",
       "</div>"
      ],
      "text/plain": [
       "       string  is_person_name\n",
       "2843    Kizzy            True\n",
       "4144    Peter            True\n",
       "2825   Kimiko            True\n",
       "1913    Gerda            True\n",
       "602     Britt            True\n",
       "4222   Randal            True\n",
       "5485    Zoila            True\n",
       "3047  Leanora            True\n",
       "4333    Riley            True\n",
       "5183    Tyler            True"
      ]
     },
     "execution_count": 19,
     "metadata": {},
     "output_type": "execute_result"
    }
   ],
   "source": [
    "first_names.sample(n=10)"
   ]
  },
  {
   "cell_type": "code",
   "execution_count": 20,
   "metadata": {
    "collapsed": true
   },
   "outputs": [],
   "source": [
    "last_names.columns = ['string']\n",
    "last_names['is_person_name'] = pd.Series(True, index=last_names.index)"
   ]
  },
  {
   "cell_type": "code",
   "execution_count": 21,
   "metadata": {},
   "outputs": [
    {
     "data": {
      "text/html": [
       "<div>\n",
       "<style>\n",
       "    .dataframe thead tr:only-child th {\n",
       "        text-align: right;\n",
       "    }\n",
       "\n",
       "    .dataframe thead th {\n",
       "        text-align: left;\n",
       "    }\n",
       "\n",
       "    .dataframe tbody tr th {\n",
       "        vertical-align: top;\n",
       "    }\n",
       "</style>\n",
       "<table border=\"1\" class=\"dataframe\">\n",
       "  <thead>\n",
       "    <tr style=\"text-align: right;\">\n",
       "      <th></th>\n",
       "      <th>string</th>\n",
       "      <th>is_person_name</th>\n",
       "    </tr>\n",
       "  </thead>\n",
       "  <tbody>\n",
       "    <tr>\n",
       "      <th>45652</th>\n",
       "      <td>Leigh</td>\n",
       "      <td>True</td>\n",
       "    </tr>\n",
       "    <tr>\n",
       "      <th>24183</th>\n",
       "      <td>Expose</td>\n",
       "      <td>True</td>\n",
       "    </tr>\n",
       "    <tr>\n",
       "      <th>51333</th>\n",
       "      <td>Mcclodden</td>\n",
       "      <td>True</td>\n",
       "    </tr>\n",
       "    <tr>\n",
       "      <th>37360</th>\n",
       "      <td>Ibanez</td>\n",
       "      <td>True</td>\n",
       "    </tr>\n",
       "    <tr>\n",
       "      <th>10048</th>\n",
       "      <td>Broomhead</td>\n",
       "      <td>True</td>\n",
       "    </tr>\n",
       "    <tr>\n",
       "      <th>69659</th>\n",
       "      <td>Sawallich</td>\n",
       "      <td>True</td>\n",
       "    </tr>\n",
       "    <tr>\n",
       "      <th>78460</th>\n",
       "      <td>Tanna</td>\n",
       "      <td>True</td>\n",
       "    </tr>\n",
       "    <tr>\n",
       "      <th>34282</th>\n",
       "      <td>Hellard</td>\n",
       "      <td>True</td>\n",
       "    </tr>\n",
       "    <tr>\n",
       "      <th>37559</th>\n",
       "      <td>Inbody</td>\n",
       "      <td>True</td>\n",
       "    </tr>\n",
       "    <tr>\n",
       "      <th>15158</th>\n",
       "      <td>Colaluca</td>\n",
       "      <td>True</td>\n",
       "    </tr>\n",
       "  </tbody>\n",
       "</table>\n",
       "</div>"
      ],
      "text/plain": [
       "          string  is_person_name\n",
       "45652      Leigh            True\n",
       "24183     Expose            True\n",
       "51333  Mcclodden            True\n",
       "37360     Ibanez            True\n",
       "10048  Broomhead            True\n",
       "69659  Sawallich            True\n",
       "78460      Tanna            True\n",
       "34282    Hellard            True\n",
       "37559     Inbody            True\n",
       "15158   Colaluca            True"
      ]
     },
     "execution_count": 21,
     "metadata": {},
     "output_type": "execute_result"
    }
   ],
   "source": [
    "last_names.sample(n=10)"
   ]
  },
  {
   "cell_type": "markdown",
   "metadata": {},
   "source": [
    "We concatenate all the strings extracted from dbpedia, first names, last names and generated combinations of names, this totals *6 million* samples with roughly *3 million* being names."
   ]
  },
  {
   "cell_type": "code",
   "execution_count": 22,
   "metadata": {},
   "outputs": [
    {
     "name": "stdout",
     "output_type": "stream",
     "text": [
      "Name:3,107,879\n",
      "Total:6,025,535\n"
     ]
    }
   ],
   "source": [
    "full_dataset = pd.concat([clean_df, generanted, first_names, last_names]).drop_duplicates(subset='string')\n",
    "\n",
    "print(\"Name:{}\".format(formatNumber(full_dataset[full_dataset['is_person_name']==True].shape[0])))\n",
    "print(\"Total:{}\".format(formatNumber(full_dataset.shape[0])))"
   ]
  },
  {
   "cell_type": "code",
   "execution_count": 23,
   "metadata": {
    "collapsed": true
   },
   "outputs": [],
   "source": [
    "full_dataset.to_csv('data/full_names.csv', index=False)"
   ]
  },
  {
   "cell_type": "code",
   "execution_count": null,
   "metadata": {
    "collapsed": true
   },
   "outputs": [],
   "source": []
  }
 ],
 "metadata": {
  "kernelspec": {
   "display_name": "Python 3",
   "language": "python",
   "name": "python3"
  },
  "language_info": {
   "codemirror_mode": {
    "name": "ipython",
    "version": 3
   },
   "file_extension": ".py",
   "mimetype": "text/x-python",
   "name": "python",
   "nbconvert_exporter": "python",
   "pygments_lexer": "ipython3",
   "version": "3.6.1"
  }
 },
 "nbformat": 4,
 "nbformat_minor": 2
}
