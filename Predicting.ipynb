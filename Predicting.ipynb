{
 "cells": [
  {
   "cell_type": "markdown",
   "metadata": {},
   "source": [
    "# Predicting Names\n",
    "---\n",
    "Thanks to *Keras*, we just need to load the model that we trained previously, and we are ready to do predictions."
   ]
  },
  {
   "cell_type": "code",
   "execution_count": 1,
   "metadata": {},
   "outputs": [
    {
     "name": "stderr",
     "output_type": "stream",
     "text": [
      "Using TensorFlow backend.\n"
     ]
    }
   ],
   "source": [
    "import numpy as np\n",
    "from keras.models import load_model\n",
    "from keras.preprocessing.sequence import pad_sequences"
   ]
  },
  {
   "cell_type": "code",
   "execution_count": 2,
   "metadata": {
    "collapsed": true
   },
   "outputs": [],
   "source": [
    "model = load_model('models/model.h5')"
   ]
  },
  {
   "cell_type": "code",
   "execution_count": 3,
   "metadata": {
    "collapsed": true
   },
   "outputs": [],
   "source": [
    "def encode_string(s):\n",
    "    encoded = []\n",
    "    for c in s:\n",
    "        idx = ord(c)\n",
    "        if idx >= 32 and idx <= 126:\n",
    "            encoded.append(idx-31)\n",
    "        elif idx > 126:\n",
    "            # Rare Characters like accented letters and specific language characters\n",
    "            encoded.append(96)\n",
    "    return encoded"
   ]
  },
  {
   "cell_type": "markdown",
   "metadata": {},
   "source": [
    "Some strings for testing"
   ]
  },
  {
   "cell_type": "code",
   "execution_count": 4,
   "metadata": {
    "collapsed": true
   },
   "outputs": [],
   "source": [
    "idio_test = [\n",
    "    \"John Johnson\",\n",
    "    \"Kahfsgjgfjsdgjhfgdjs\",\n",
    "    \"Book\",\n",
    "    \"Jean Claude von Muchausen Gordon-Smith\",\n",
    "    \"Omar Contreras\",\n",
    "    \"Car\",\n",
    "    \"Tsinghua University\",\n",
    "    \"London, England\",\n",
    "    \"Engineering test\",\n",
    "    \"Deep Learning\",\n",
    "    \"Rodrigo Nuñez\",\n",
    "    \"Mexico City\",\n",
    "    \"Elton John\",\n",
    "    \"John Lennon\",\n",
    "    \"The Beatles\",\n",
    "    \"Omar Alejandro Contreras Haces\",\n",
    "    \"Congratulations Class of 2017\",\n",
    "    \"Arnold Schwaznegger\",\n",
    "    \"Barbara Thomson\",\n",
    "    \"Alejandro\",\n",
    "    \"London\",\n",
    "    \"Xijin Ping\",\n",
    "    \"Galileo Galilei\",\n",
    "    \"Albert Einstein\",\n",
    "    \"Elon Musk\",\n",
    "    \"Apple Computers\",\n",
    "    \"GeForce 1080GTX\",\n",
    "    \"Los Angeles\",\n",
    "    \"Santa Monica\",\n",
    "    \"Monica Richardson\",\n",
    "    \"Kaiser Wilhelm II\",\n",
    "    \"Alan Turin\",\n",
    "    \"Turin Test\",\n",
    "    \"Oxford Road\",\n",
    "    \"Queen Elizabeth II\",\n",
    "    \"Shinzō Abe\",\n",
    "    \"Barack Hussein Obama\",\n",
    "    \"January 1st\",\n",
    "    \"January Jones\",\n",
    "    \"Genghis Kahn\",\n",
    "    \"Björk Guðmundsdóttir\",\n",
    "]"
   ]
  },
  {
   "cell_type": "markdown",
   "metadata": {},
   "source": [
    "Encode the strings and add the padding to them."
   ]
  },
  {
   "cell_type": "code",
   "execution_count": 5,
   "metadata": {},
   "outputs": [],
   "source": [
    "X_idio = pad_sequences(list(map(lambda s: encode_string(s), idio_test)), maxlen=50, dtype=np.int32, padding='post')"
   ]
  },
  {
   "cell_type": "code",
   "execution_count": 6,
   "metadata": {},
   "outputs": [
    {
     "name": "stdout",
     "output_type": "stream",
     "text": [
      "Is a person name?\n",
      "\n",
      "John Johnson                            True\t98.9046%\n",
      "Kahfsgjgfjsdgjhfgdjs                    False\t0.3554%\n",
      "Book                                    False\t26.7829%\n",
      "Jean Claude von Muchausen Gordon-Smith  True\t97.3374%\n",
      "Omar Contreras                          True\t98.2866%\n",
      "Car                                     False\t45.7327%\n",
      "Tsinghua University                     False\t0.1133%\n",
      "London, England                         False\t1.1818%\n",
      "Engineering test                        False\t0.4195%\n",
      "Deep Learning                           False\t7.8683%\n",
      "Rodrigo Nuñez                           True\t98.7723%\n",
      "Mexico City                             False\t0.4931%\n",
      "Elton John                              True\t97.8642%\n",
      "John Lennon                             True\t98.6577%\n",
      "The Beatles                             False\t1.6154%\n",
      "Omar Alejandro Contreras Haces          True\t90.6128%\n",
      "Congratulations Class of 2017           False\t0.0009%\n",
      "Arnold Schwaznegger                     True\t99.7740%\n",
      "Barbara Thomson                         True\t98.6831%\n",
      "Alejandro                               True\t60.0873%\n",
      "London                                  False\t12.3560%\n",
      "Xijin Ping                              True\t87.4041%\n",
      "Galileo Galilei                         True\t75.3757%\n",
      "Albert Einstein                         True\t97.8983%\n",
      "Elon Musk                               True\t91.8871%\n",
      "Apple Computers                         False\t0.1853%\n",
      "GeForce 1080GTX                         False\t0.0073%\n",
      "Los Angeles                             False\t2.3761%\n",
      "Santa Monica                            False\t2.9990%\n",
      "Monica Richardson                       True\t99.4412%\n",
      "Kaiser Wilhelm II                       True\t84.1953%\n",
      "Alan Turin                              True\t99.2178%\n",
      "Turin Test                              False\t7.0944%\n",
      "Oxford Road                             False\t1.0138%\n",
      "Queen Elizabeth II                      True\t84.1480%\n",
      "Shinzō Abe                              True\t97.4897%\n",
      "Barack Hussein Obama                    True\t75.9317%\n",
      "January 1st                             False\t0.5462%\n",
      "January Jones                           True\t85.4335%\n",
      "Genghis Kahn                            True\t90.0651%\n",
      "Björk Guðmundsdóttir                    True\t73.6318%\n"
     ]
    }
   ],
   "source": [
    "results = model.predict(X_idio)\n",
    "print(\"Is a person name?\", end=\"\\n\\n\")\n",
    "for i, s in enumerate(idio_test):\n",
    "    print(\"{}{}{}\\t{:02.4f}%\".format(s, \"\".join([\" \"]*(40-len(s))),True if results[i][0] > 0.5 else False, float(results[i][0]*100)))"
   ]
  },
  {
   "cell_type": "markdown",
   "metadata": {},
   "source": [
    "### Summary\n",
    "\n",
    "The model predicts quite good in even some names that only are expressed in one word, it shows more confidence with names that has last names.\n",
    "\n",
    "Foreign names like the Prime Minister of Japan and the Islandic singer Björk is predicted correctly."
   ]
  },
  {
   "cell_type": "code",
   "execution_count": null,
   "metadata": {
    "collapsed": true
   },
   "outputs": [],
   "source": []
  }
 ],
 "metadata": {
  "kernelspec": {
   "display_name": "Python 3",
   "language": "python",
   "name": "python3"
  },
  "language_info": {
   "codemirror_mode": {
    "name": "ipython",
    "version": 3
   },
   "file_extension": ".py",
   "mimetype": "text/x-python",
   "name": "python",
   "nbconvert_exporter": "python",
   "pygments_lexer": "ipython3",
   "version": "3.6.1"
  }
 },
 "nbformat": 4,
 "nbformat_minor": 2
}
